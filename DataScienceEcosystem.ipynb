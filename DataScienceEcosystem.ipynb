{
  "cells": [
    {
      "cell_type": "markdown",
      "metadata": {
        "id": "z2J99OzHTzoj"
      },
      "source": [
        "# Data Science Tools and Ecosystem"
      ]
    },
    {
      "cell_type": "markdown",
      "metadata": {
        "id": "RWWpQUl2Tzoo"
      },
      "source": [
        "Navigating the Data Science Toolkit: A Comprehensive Overview"
      ]
    },
    {
      "cell_type": "markdown",
      "metadata": {
        "id": "rQojdLnRTzoo"
      },
      "source": [
        "**Objectives:**\n",
        "* Data Science Categories\n",
        "* Roles in Data Science\n",
        "* Model Asset Exchange and the Data Asset Exchange\n",
        "* Different Cloud based Jupyter Environment\n",
        "* Capabilities of R and its uses in Data Science"
      ]
    },
    {
      "cell_type": "markdown",
      "metadata": {
        "id": "aWIfG3tcTzop"
      },
      "source": [
        "Some of the popular languages that Data Scientists use are:\n",
        "\n",
        "1. Python\n",
        "2. Scala\n",
        "3. Julia\n",
        "4. Java\n",
        "5. C++\n",
        "6. R"
      ]
    },
    {
      "cell_type": "markdown",
      "metadata": {
        "id": "Zz1suqLCTzoq"
      },
      "source": [
        "Some of the commonly used libraries used by Data Scientists include:\n",
        "\n",
        "1. Matplotlib\n",
        "2. Numpy\n",
        "3. Pandas\n",
        "4. SciKit Learn\n",
        "5. SciPy"
      ]
    },
    {
      "cell_type": "markdown",
      "metadata": {
        "id": "ctfvi4erTzoq"
      },
      "source": [
        "\n",
        "| Data Science Tools |\n",
        "| -------------|\n",
        "| Jupyter Notebook |\n",
        "| Spyder |\n",
        "| VS Code |"
      ]
    },
    {
      "cell_type": "markdown",
      "metadata": {
        "id": "0owSRNHtTzoq"
      },
      "source": [
        "### Mastering Arithmetic in Python: Practical Examples\n"
      ]
    },
    {
      "cell_type": "code",
      "execution_count": null,
      "metadata": {
        "id": "N93cR82yTzor",
        "outputId": "12b2005a-542c-4984-a4e5-7eea58c18400"
      },
      "outputs": [
        {
          "data": {
            "text/plain": [
              "17"
            ]
          },
          "execution_count": 1,
          "metadata": {},
          "output_type": "execute_result"
        }
      ],
      "source": [
        "# This a simple arithmetic expression to mutiply then subtract integers\n",
        "(8*2)+7"
      ]
    },
    {
      "cell_type": "code",
      "execution_count": null,
      "metadata": {
        "id": "n73_nq05Tzos",
        "outputId": "0a46a735-3625-48bb-f187-c6be5c8a4b83"
      },
      "outputs": [
        {
          "name": "stdout",
          "output_type": "stream",
          "text": [
            "3:20 hours\n"
          ]
        }
      ],
      "source": [
        "# Function to convert minutes to hours\n",
        "def minutes_to_hours(minutes):\n",
        "    hours = str(int(minutes/60))\n",
        "    remaining_minute = str(minutes%60)\n",
        "\n",
        "    if len(remaining_minute) == 1:\n",
        "        remaining_minute = '0'+ remaining_minute\n",
        "\n",
        "    return hours + \":\" + remaining_minute + \" hours\"\n",
        "\n",
        "# Example with a different input value (e.g., 300 minutes)\n",
        "print(minutes_to_hours(300))"
      ]
    },
    {
      "cell_type": "markdown",
      "metadata": {
        "id": "AFNH8D0TTzot"
      },
      "source": [
        "## Author\n",
        "Akshat Mishra"
      ]
    }
  ],
  "metadata": {
    "colab": {
      "provenance": []
    },
    "kernelspec": {
      "display_name": "Python 3",
      "language": "python",
      "name": "python3"
    },
    "language_info": {
      "codemirror_mode": {
        "name": "ipython",
        "version": 3
      },
      "file_extension": ".py",
      "mimetype": "text/x-python",
      "name": "python",
      "nbconvert_exporter": "python",
      "pygments_lexer": "ipython3",
      "version": "3.11.3"
    }
  },
  "nbformat": 4,
  "nbformat_minor": 0
}
